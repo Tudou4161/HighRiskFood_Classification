{
 "cells": [
  {
   "cell_type": "code",
   "execution_count": 36,
   "metadata": {},
   "outputs": [],
   "source": [
    "#_keyword = \"蝙蝠料理\"\n",
    "# roc = r'C:/Users/WIN10/Desktop/HCFC/TrainSet/high-caution-food-data/'\n",
    "from selenium import webdriver\n",
    "from urllib.request import urlopen, urlretrieve\n",
    "from urllib.parse import quote_plus\n",
    "from bs4 import BeautifulSoup\n",
    "import os\n",
    "#----------Worst Sampling-------------------\n",
    "#저위험군: 물고기요리, 소고기요리, 채식, 닭요리 등\n",
    "#고위험군: 박쥐요리, 천산갑요리, 뱀요리 \n",
    "#------------Best Sampling---------------\n",
    "#짜장면, 박쥐탕, 뱀탕, 제육볶음, 국밥\n",
    "#----------------------------------------\n",
    "\n",
    "key = '스파게티'\n",
    "path = r\"C:\\Users\\WIN10\\Desktop\\chromedriver.exe\"  #유니코드에러 자꾸 떠서 r추가\n",
    "driver = webdriver.Chrome(path) "
   ]
  },
  {
   "cell_type": "code",
   "execution_count": 37,
   "metadata": {},
   "outputs": [
    {
     "name": "stdout",
     "output_type": "stream",
     "text": [
      "['https://search.pstatic.net/common/?src=http%3A%2F%2Fblogfiles.naver.net%2F20101019_295%2Fpride0123_1287463501316pJ8uH_jpg%2F%25B9%25F6%25BC%25B8%25C5%25A9%25B8%25B2%25BD%25BA%25C6%25C4%25B0%25D4%25C6%25BC1_pride0123.jpg&type=b360', 'https://search.pstatic.net/common/?src=http%3A%2F%2Fblogfiles.naver.net%2F20130907_191%2Faheeace_13785491111371D62b_JPEG%2F2013-09-07_19%253B14%253B05.jpg&type=b360', 'https://search.pstatic.net/common/?src=http%3A%2F%2Fblogfiles.naver.net%2FMjAyMDA0MDZfMTYw%2FMDAxNTg2MDk4ODc1MTQ5.JRWaqtc96X3vMkHZUHHCzb5ShTiV2fQI3cSMEiXc-28g.6d6Pe4WJJRqMVxLGKxHRSIiFealv5mnd__Ap-WlBxpEg.JPEG.nahmeerang0%2F%25C2%25FC%25C4%25A1_%25BD%25BA%25C6%25C4%25B0%25D4%25C6%25BCIMG_20200405_132137.jpg&type=b360', 'https://search.pstatic.net/common/?src=http%3A%2F%2Fblogfiles.naver.net%2F20120828_6%2Folivemall_1346138384984Lp5WA_JPEG%2F%25BD%25BA%25C6%25C4%25B0%25D4%25C6%25BC1.jpg&type=b360', 'https://search.pstatic.net/common/?src=http%3A%2F%2Fpost.phinf.naver.net%2F20150922_112%2Fbongs1021_1442889355444E6HRY_JPEG%2Fmug_obj_201509221136021774.jpg&type=b360', 'https://search.pstatic.net/common/?src=http%3A%2F%2Fblogfiles.naver.net%2F20121216_276%2Fwlsdnqhr_1355646266090qB8AD_JPEG%2F%25C5%25A9%25B8%25B2%25BD%25BA%25C6%25C4%25B0%25D4%25C6%25BC_015.jpg&type=b360', 'https://search.pstatic.net/common/?src=http%3A%2F%2Fblogfiles.naver.net%2F20130925_274%2Faheeace_1380085281903UPIvx_JPEG%2F2013-09-25_13%253B50%253B57.jpg&type=b360', 'https://search.pstatic.net/common/?src=http%3A%2F%2Fblogfiles.naver.net%2F20101126_148%2Fsakwanamu_1290746585844BUgM0_JPEG%2F%25B1%25E8%25C4%25A1%25BD%25BA%25C6%25C4%25B0%25D4%25C6%25BC2.jpg&type=b360', 'https://search.pstatic.net/common/?src=http%3A%2F%2Fpost.phinf.naver.net%2FMjAxNzExMDNfMTI0%2FMDAxNTA5NzA5NzUzOTY1.xzUmBhnN_7Kk-Bp8BYvA6Aetr4HBz095nZMjinoOhAgg.KhNbxt18yg--oytU4tsIH1pwccekHUZuumudU20-K9Ig.JPEG%2FIZnb4FTglNJkJryg_mZ6TZM-QGGU.jpg&type=b360', 'https://search.pstatic.net/common/?src=http%3A%2F%2Fblogfiles.naver.net%2Fdata42%2F2009%2F6%2F4%2F284%2F%25B0%25A1%25B8%25AE%25BA%25F1_%25BD%25BA%25C6%25C4%25B0%25D4%25C6%25BC_paullee338.jpg&type=b360', 'https://search.pstatic.net/common/?src=http%3A%2F%2Fblogfiles.naver.net%2F20130520_184%2Fplus1004044_1369061836115xtafx_JPEG%2F%25BA%25D2%25B0%25ED%25B1%25E2%25BA%25C0%25B0%25F1%25B7%25B9%25BD%25BA%25C6%25C4%25B0%25D4%25C6%25BC_%25283%2529.jpg&type=b360', 'https://search.pstatic.net/common/?src=http%3A%2F%2Fblogfiles.naver.net%2F20110918_257%2Ffruit528_13163452287863pH3k_JPEG%2FSS103256.JPG&type=b360', 'https://search.pstatic.net/common/?src=http%3A%2F%2Fblogfiles.naver.net%2F20140101_274%2Fjinjin7711_1388574647029QXalO_JPEG%2F%25C5%25A9%25B8%25B2%25BD%25BA%25C6%25C4%25B0%25D4%25C6%25BC-20.jpg&type=b360', 'https://search.pstatic.net/common/?src=http%3A%2F%2Fblogfiles.naver.net%2FMjAxNzA3MjdfMTU0%2FMDAxNTAxMTQxMTQwNzYz.QvHh6R-DNZ-4cJ9gjiMPxO39U83t4rvW6C5OLX3r0Q8g.4ikWamjySpYmNtpkA53yBwqpK-3b8DD_P-qXecQ90zUg.JPEG.1992mini%2FBandPhoto_2017_07_27_16_35_22.jpg&type=b360', 'https://search.pstatic.net/common/?src=http%3A%2F%2Fblogfiles.naver.net%2F20120913_125%2Ftomato2130_1347542576935187Sj_JPEG%2F9.13-%25B0%25ED%25C3%25DF%25C0%25E5_%25BD%25BA%25C6%25C4%25B0%25D4%25C6%25BC_%252817%2529.JPG&type=b360', 'https://search.pstatic.net/common/?src=http%3A%2F%2Fblogfiles.naver.net%2F20120202_217%2Fjiwon6634_1328147059211RsP0Y_JPEG%2F%25BD%25BA%25C6%25C4%25B0%25D4%25C6%25BC_027.jpg&type=b360', 'https://search.pstatic.net/common/?src=http%3A%2F%2Fcafefiles.naver.net%2F20121031_294%2Fgusk1120_1351661472480qe6jn_JPEG%2F%25BD%25BA%25C6%25C4%25B0%25D4%25C6%25BC.jpg&type=b360', 'https://search.pstatic.net/common/?src=http%3A%2F%2Fcafefiles.naver.net%2F20090828_265%2Frnalgh565_1251428248372uWU5f_jpg%2F%25BD%25BA%25C6%25C4%25B0%25D4%25C6%25BC1_rnalgh565.jpg&type=b360', 'https://search.pstatic.net/common/?src=http%3A%2F%2Fblogfiles.naver.net%2F20120917_141%2Fonetwo34five_1347872390368t4RXm_JPEG%2F%25BD%25BA%25C6%25C4%25B0%25D4%25C6%25BC_%25B5%25CE%25B0%25B3.jpg&type=b360']\n"
     ]
    }
   ],
   "source": [
    "url = \"https://m.search.naver.com/search.naver?where=m_image&sm=mtb_jum&query={}\".format(key)\n",
    "#url = \"http://image.baidu.com/search/index?tn=baiduimage&ps=1&ct=201326592&lm=-1&cl=2&nc=1&ie=utf-8&word={}\".format(key)\n",
    "driver.get(url)\n",
    "imgs = driver.find_elements_by_css_selector('img._img')\n",
    "res = []\n",
    "for i in imgs:\n",
    "    if \"http\" in i.get_attribute('src'):\n",
    "        res.append(i.get_attribute('src'))\n",
    "print(res)\n"
   ]
  },
  {
   "cell_type": "code",
   "execution_count": 38,
   "metadata": {},
   "outputs": [],
   "source": [
    "for idx, link in enumerate(res):\n",
    "    start = link.rfind('.')\n",
    "    end = link.rfind('&')\n",
    "    filetype = link[start:end]\n",
    "    path = r\"C:/Users/WIN10/Desktop/HCFC/Train/0 low-caution-food-data/\"\n",
    "    urlretrieve(link, path+\"{}{}{}\".format(key,idx,filetype))"
   ]
  }
 ],
 "metadata": {
  "kernelspec": {
   "display_name": "Python 3",
   "language": "python",
   "name": "python3"
  },
  "language_info": {
   "codemirror_mode": {
    "name": "ipython",
    "version": 3
   },
   "file_extension": ".py",
   "mimetype": "text/x-python",
   "name": "python",
   "nbconvert_exporter": "python",
   "pygments_lexer": "ipython3",
   "version": "3.7.4"
  }
 },
 "nbformat": 4,
 "nbformat_minor": 2
}
